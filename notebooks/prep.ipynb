{
 "cells": [
  {
   "cell_type": "code",
   "execution_count": null,
   "id": "dc997248",
   "metadata": {},
   "outputs": [],
   "source": [
    "# Carga de las librerías\n",
    "import numpy as np\n",
    "import pandas as pd\n",
    "import seaborn as sns\n",
    "import matplotlib.pyplot as plt"
   ]
  },
  {
   "cell_type": "markdown",
   "id": "06c1e1c1",
   "metadata": {},
   "source": [
    "# Preprocesamiento de los datos\n",
    "\n",
    "Se va a realizar el preprocesado de los datos de expresión transcriptómica obtenidos a partir de microarrays Clariom D Human de Affymetrix, los cuales, previamente, han sido preprocesados mediante el método RMA. \n",
    "\n",
    "En particular, se parte de unos datos de expresión cuyo fondo ya ha sido corregido, han sido normalizados y resumidos. \n",
    "\n",
    "En cuanto al diseño experimental, se dipone de datos de expresión transcriptómica de lineas celulares tanto de cáncer de colon como de colonocitos normales. Además, de cada una de ellas, se tienen muestras tratadas y sin tratar con DFMO, un inhibidor suicida de la ODC (ornitin descarboxilasa)."
   ]
  },
  {
   "cell_type": "markdown",
   "id": "f098bbc1",
   "metadata": {},
   "source": [
    "## Lectura de datos"
   ]
  },
  {
   "cell_type": "code",
   "execution_count": null,
   "id": "84c2508a",
   "metadata": {},
   "outputs": [],
   "source": [
    "# Lectura datos expresion\n",
    "df_expresion = pd.read_csv(\"../data/matriz_expresion.csv\", index_col=0)\n",
    "# Lectura covariables\n",
    "df_covariables = pd.read_csv(\"../data/matriz_covariables.csv\", index_col=0)"
   ]
  },
  {
   "cell_type": "code",
   "execution_count": null,
   "id": "18002ff9",
   "metadata": {},
   "outputs": [],
   "source": [
    "\n",
    "# Mostrar datos\n",
    "print(f\"A continuación, se muestran las primeras filas de la matriz de expresión procesada (de dimensiones {df_expresion.shape}):\\n\")\n",
    "df_expresion.head()"
   ]
  },
  {
   "cell_type": "code",
   "execution_count": null,
   "id": "b7999ff2",
   "metadata": {},
   "outputs": [],
   "source": [
    "print(f\"A continuación, se muestran las primeras filas de la matriz de covariables (de dimensiones {df_covariables.shape}):\\n\")\n",
    "df_covariables.head()"
   ]
  },
  {
   "cell_type": "markdown",
   "id": "e0ff77f9",
   "metadata": {},
   "source": [
    "## Valores Faltantes\n",
    "En primer lugar, se comprueba si existen valores faltantes en el conjunto de datos. En caso de que existan, se procederá a su imputación o eliminación, dependiendo del porcentaje de datos faltantes."
   ]
  },
  {
   "cell_type": "code",
   "execution_count": null,
   "id": "d2de2003",
   "metadata": {},
   "outputs": [],
   "source": [
    "# Comprobación de valores faltantes en la matriz de expresión\n",
    "n_faltantes_df_exp = df_expresion.isnull().sum().sum()\n",
    "print(f\"- En la matriz de expresión ('df_expresion') hay un total de {n_faltantes_df_exp} valores faltantes.\")\n",
    "\n",
    "# Comprobación de valores faltantes en la matriz de covariables\n",
    "n_faltantes_df_cov = df_covariables.isnull().sum().sum()\n",
    "print(f\"- En la matriz de covariables ('df_covariables') hay un total de {n_faltantes_df_cov} valores faltantes.\")"
   ]
  },
  {
   "cell_type": "markdown",
   "id": "b48a0367",
   "metadata": {},
   "source": [
    "## Renombrado de muestras\n",
    "\n",
    "Para que sean más fácilmente identificables las muestras, se renombran las columnas de la matriz de expresión con los valores de la columna 'SampleID' de la matriz de covariables:"
   ]
  },
  {
   "cell_type": "code",
   "execution_count": null,
   "id": "80aa2593",
   "metadata": {},
   "outputs": [],
   "source": [
    "df_expresion.columns = df_covariables[\"SampleID\"]\n",
    "df_expresion"
   ]
  },
  {
   "cell_type": "markdown",
   "id": "e709bf85",
   "metadata": {},
   "source": [
    "## Reordenamiento de las columnas\n",
    "\n",
    "Se van a reordenar tanto las filas de la matriz de covariables como las columnas de la matriz de expresión para que sigan el mismo orden. En concreto, dicho orden será el siguiente: muestras de colonocitos normales sin tratar, muestras de colonocitos normales tratadas con DFMO, muestras de células de cáncer de colon sin tratar y muestras de células de cáncer de colon tratadas con DFMO."
   ]
  },
  {
   "cell_type": "code",
   "execution_count": null,
   "id": "888b445e",
   "metadata": {},
   "outputs": [],
   "source": [
    "# Reordenamiento de las filas de la matriz de covariables\n",
    "df_covariables = df_covariables.set_index(\"SampleID\")\n",
    "# Ordenar según la columna Línea celular y luego Tratamiento\n",
    "df_covariables.sort_values(by = [\"Linea\", \"Tratamiento\"], inplace=True)\n",
    "df_covariables"
   ]
  },
  {
   "cell_type": "markdown",
   "id": "f978a461",
   "metadata": {},
   "source": [
    "A continuación, se procede a reordenar las columnas de la matriz de expresión según el nuevo orden de las filas de la matriz de covariables:"
   ]
  },
  {
   "cell_type": "code",
   "execution_count": null,
   "id": "384e5306",
   "metadata": {},
   "outputs": [],
   "source": [
    "# Reordenar la matriz de expresión según el nuevo orden de las filas de la matriz de covariables\n",
    "df_expresion = df_expresion[df_covariables.index]\n",
    "df_expresion"
   ]
  },
  {
   "cell_type": "markdown",
   "id": "7ba0807f",
   "metadata": {},
   "source": [
    "## Renombrado de las filas\n",
    "\n",
    "Los microarrays de Affymetrix incluyen varios sondas (probesets) para cada gen. Por tanto, es necesario resumir la expresión de los genes a partir de la expresión de los probesets. Para ello, se renombran las filas de la matriz de expresión con los valores de la columna 'Symbol' del archivo de anotación:"
   ]
  },
  {
   "cell_type": "code",
   "execution_count": null,
   "id": "c11ce2b4",
   "metadata": {},
   "outputs": [],
   "source": [
    "# Carga del archivo de anotación\n",
    "df_anotacion = pd.read_csv(\"../data/probe2symbol.csv\")\n",
    "df_anotacion = df_anotacion.dropna(subset = \"SYMBOL\")\n",
    "df_anotacion = df_anotacion.iloc[:, 1:]\n",
    "df_anotacion"
   ]
  },
  {
   "cell_type": "markdown",
   "id": "ec6ad63f",
   "metadata": {},
   "source": [
    "En primer lugar, se hará un 'inner join' entre la matriz de expresión y la de anotación, de forma que se eliminen aquellos probesets que no tengan asociado un símbolo de gen. A continuación, se sustituye el índice (nombres de fila) por los límbolos de gen y se eliminan las columnas 'PROBEID' y 'SYMBOL', que ya no son necesarias."
   ]
  },
  {
   "cell_type": "code",
   "execution_count": null,
   "id": "389a7287",
   "metadata": {},
   "outputs": [],
   "source": [
    "# Left join matriz de expresion con anotación mediante rownames=PROBEID\n",
    "df_expr_symbol = df_expresion.merge(df_anotacion, left_index=True, right_on='PROBEID', how = 'inner')\n",
    "df_expr_symbol.index = df_expr_symbol['SYMBOL']\n",
    "df_expr_symbol = df_expr_symbol.drop(columns=['PROBEID', 'SYMBOL'])\n",
    "df_expr_symbol = df_expr_symbol.sort_index()\n",
    "df_expr_symbol"
   ]
  },
  {
   "cell_type": "markdown",
   "id": "57640818",
   "metadata": {},
   "source": [
    "Cabe destacar que no todos los probesets tienen asociado un símbolo de gen, por lo que se pierden algunas filas en este proceso. "
   ]
  },
  {
   "cell_type": "code",
   "execution_count": null,
   "id": "2200c7d4",
   "metadata": {},
   "outputs": [],
   "source": [
    "# Sondas que no tienen símbolo de gen asociado\n",
    "n_sin_symbol = df_expresion.shape[0] - df_expr_symbol.shape[0]\n",
    "print(f\"En particular, se pierden {n_sin_symbol} sondas que no tienen símbolo de gen asociado.\")"
   ]
  },
  {
   "cell_type": "markdown",
   "id": "6df8fb62",
   "metadata": {},
   "source": [
    "## Duplicados: Eliminar/Combinar filas con el mismo GENE SYMBOL\n",
    "\n",
    "No es de extrañar que haya varios conjuntos de sondas (probesets) que midan la expresión del mismo gen, ya que un gen puede tener varias variantes de transcripción (transcriptos) y, por tanto, varios probesets pueden estar diseñados para medir la expresión de diferentes transcriptos del mismo gen:"
   ]
  },
  {
   "cell_type": "code",
   "execution_count": null,
   "id": "1c7a3984",
   "metadata": {},
   "outputs": [],
   "source": [
    "duplicados = df_expr_symbol.index[df_expr_symbol.index.duplicated()]\n",
    "print(f\"En concreto, hay un total de {len(duplicados)} 'GENE SYMBOL' duplicados\")\n",
    "df_anotacion[\"SYMBOL\"].value_counts()[df_anotacion[\"SYMBOL\"].value_counts() > 1]"
   ]
  },
  {
   "cell_type": "markdown",
   "id": "7fdda264",
   "metadata": {},
   "source": [
    "Por ejemplo, en el caso del gen 'F10', hay 2 probesets diferentes que miden la expresión de este gen:"
   ]
  },
  {
   "cell_type": "code",
   "execution_count": null,
   "id": "ae4dced9",
   "metadata": {},
   "outputs": [],
   "source": [
    "df_anotacion.where(df_anotacion[\"SYMBOL\"] == \"F10\").dropna()"
   ]
  },
  {
   "cell_type": "markdown",
   "id": "329c892b",
   "metadata": {},
   "source": [
    "Existen multitud de estrategias para abordar este problema: desde la combinación de probesets hasta la selección de un único probeset representativo por gen. En este caso, se opta por la primera opción. En cuanto a la combinación de probesets, existen varias alternativas, como la media, la mediana o la selección del probeset con mayor varianza. \n",
    "\n",
    "### Combinar probesets mediante la mediana\n",
    "\n",
    "En este caso, se opta por calcular la mediana de expresión de los probesets que miden el mismo gen."
   ]
  },
  {
   "cell_type": "code",
   "execution_count": null,
   "id": "d66032f1",
   "metadata": {},
   "outputs": [],
   "source": [
    "# Combinar filas con el mismo GENE SYMBOL usando la mediana\n",
    "df_expr_symbol_median = df_expr_symbol.groupby(df_expr_symbol.index).median()\n",
    "df_expr_symbol_median"
   ]
  },
  {
   "cell_type": "markdown",
   "id": "65d98467",
   "metadata": {},
   "source": [
    "Por ejemplo, para el gen 'F10' tiene 2 probesets asociados:"
   ]
  },
  {
   "cell_type": "code",
   "execution_count": null,
   "id": "a9aae349",
   "metadata": {},
   "outputs": [],
   "source": [
    "print(\"Se pasa de tener:\")\n",
    "print(df_expr_symbol.loc[[\"F10\"], df_expr_symbol.columns[:5]])\n",
    "print(\"\\nA tener:\")\n",
    "# Se muestran las filas correspondientes al gen 'RNA5S4' antes de agrupar\n",
    "print(df_expr_symbol_median.loc[[\"F10\"], df_expr_symbol_median.columns[:5]])\n"
   ]
  },
  {
   "cell_type": "markdown",
   "id": "4842d4b0",
   "metadata": {},
   "source": [
    "Como resultado, se obtiene una nueva matriz de expresión en la que cada gen está representado por un único valor de expresión, que es la mediana de los valores de expresión de los probesets asociados a ese gen."
   ]
  },
  {
   "cell_type": "code",
   "execution_count": null,
   "id": "3b27de24",
   "metadata": {},
   "outputs": [],
   "source": [
    "print(f\"Como resultado, Se pasa de una matriz de expresión de dimensiones {df_expresion.shape} a una matriz de dimensiones {df_expr_symbol_median.shape}.\")"
   ]
  },
  {
   "cell_type": "markdown",
   "id": "37d101f2",
   "metadata": {},
   "source": [
    "# Guardar la matriz de expresión final"
   ]
  },
  {
   "cell_type": "code",
   "execution_count": null,
   "id": "66ad46d6",
   "metadata": {},
   "outputs": [],
   "source": [
    "# Guardar la matriz de expresión final\n",
    "df_expr_symbol_median.to_csv(\"../data/matriz_expr_symbol_median.csv\")\n",
    "# Guardar la matriz de covariables ordenada\n",
    "df_covariables.to_csv(\"../data/matriz_covariables_ordenada.csv\")"
   ]
  }
 ],
 "metadata": {
  "kernelspec": {
   "display_name": "Python 3",
   "language": "python",
   "name": "python3"
  },
  "language_info": {
   "codemirror_mode": {
    "name": "ipython",
    "version": 3
   },
   "file_extension": ".py",
   "mimetype": "text/x-python",
   "name": "python",
   "nbconvert_exporter": "python",
   "pygments_lexer": "ipython3",
   "version": "3.13.7"
  }
 },
 "nbformat": 4,
 "nbformat_minor": 5
}
